{
 "cells": [
  {
   "cell_type": "code",
   "execution_count": 128,
   "id": "d9392a91-8071-4230-ba83-5225de1f0b3f",
   "metadata": {},
   "outputs": [
    {
     "name": "stdout",
     "output_type": "stream",
     "text": [
      "Requirement already satisfied: xgboost in c:\\users\\jhuang\\appdata\\local\\anaconda3\\lib\\site-packages (2.1.4)\n",
      "Requirement already satisfied: numpy in c:\\users\\jhuang\\appdata\\local\\anaconda3\\lib\\site-packages (from xgboost) (1.26.4)\n",
      "Requirement already satisfied: scipy in c:\\users\\jhuang\\appdata\\local\\anaconda3\\lib\\site-packages (from xgboost) (1.13.1)\n",
      "Requirement already satisfied: rdkit in c:\\users\\jhuang\\appdata\\local\\anaconda3\\lib\\site-packages (2024.9.5)\n",
      "Requirement already satisfied: numpy in c:\\users\\jhuang\\appdata\\local\\anaconda3\\lib\\site-packages (from rdkit) (1.26.4)\n",
      "Requirement already satisfied: Pillow in c:\\users\\jhuang\\appdata\\local\\anaconda3\\lib\\site-packages (from rdkit) (10.4.0)\n",
      "Collecting catboost\n",
      "  Downloading catboost-1.2.7-cp312-cp312-win_amd64.whl.metadata (1.2 kB)\n",
      "Collecting graphviz (from catboost)\n",
      "  Downloading graphviz-0.20.3-py3-none-any.whl.metadata (12 kB)\n",
      "Requirement already satisfied: matplotlib in c:\\users\\jhuang\\appdata\\local\\anaconda3\\lib\\site-packages (from catboost) (3.9.2)\n",
      "Requirement already satisfied: numpy<2.0,>=1.16.0 in c:\\users\\jhuang\\appdata\\local\\anaconda3\\lib\\site-packages (from catboost) (1.26.4)\n",
      "Requirement already satisfied: pandas>=0.24 in c:\\users\\jhuang\\appdata\\local\\anaconda3\\lib\\site-packages (from catboost) (2.2.2)\n",
      "Requirement already satisfied: scipy in c:\\users\\jhuang\\appdata\\local\\anaconda3\\lib\\site-packages (from catboost) (1.13.1)\n",
      "Requirement already satisfied: plotly in c:\\users\\jhuang\\appdata\\local\\anaconda3\\lib\\site-packages (from catboost) (5.24.1)\n",
      "Requirement already satisfied: six in c:\\users\\jhuang\\appdata\\local\\anaconda3\\lib\\site-packages (from catboost) (1.16.0)\n",
      "Requirement already satisfied: python-dateutil>=2.8.2 in c:\\users\\jhuang\\appdata\\local\\anaconda3\\lib\\site-packages (from pandas>=0.24->catboost) (2.9.0.post0)\n",
      "Requirement already satisfied: pytz>=2020.1 in c:\\users\\jhuang\\appdata\\local\\anaconda3\\lib\\site-packages (from pandas>=0.24->catboost) (2024.1)\n",
      "Requirement already satisfied: tzdata>=2022.7 in c:\\users\\jhuang\\appdata\\local\\anaconda3\\lib\\site-packages (from pandas>=0.24->catboost) (2023.3)\n",
      "Requirement already satisfied: contourpy>=1.0.1 in c:\\users\\jhuang\\appdata\\local\\anaconda3\\lib\\site-packages (from matplotlib->catboost) (1.2.0)\n",
      "Requirement already satisfied: cycler>=0.10 in c:\\users\\jhuang\\appdata\\local\\anaconda3\\lib\\site-packages (from matplotlib->catboost) (0.11.0)\n",
      "Requirement already satisfied: fonttools>=4.22.0 in c:\\users\\jhuang\\appdata\\local\\anaconda3\\lib\\site-packages (from matplotlib->catboost) (4.51.0)\n",
      "Requirement already satisfied: kiwisolver>=1.3.1 in c:\\users\\jhuang\\appdata\\local\\anaconda3\\lib\\site-packages (from matplotlib->catboost) (1.4.4)\n",
      "Requirement already satisfied: packaging>=20.0 in c:\\users\\jhuang\\appdata\\local\\anaconda3\\lib\\site-packages (from matplotlib->catboost) (24.1)\n",
      "Requirement already satisfied: pillow>=8 in c:\\users\\jhuang\\appdata\\local\\anaconda3\\lib\\site-packages (from matplotlib->catboost) (10.4.0)\n",
      "Requirement already satisfied: pyparsing>=2.3.1 in c:\\users\\jhuang\\appdata\\local\\anaconda3\\lib\\site-packages (from matplotlib->catboost) (3.1.2)\n",
      "Requirement already satisfied: tenacity>=6.2.0 in c:\\users\\jhuang\\appdata\\local\\anaconda3\\lib\\site-packages (from plotly->catboost) (8.2.3)\n",
      "Downloading catboost-1.2.7-cp312-cp312-win_amd64.whl (101.7 MB)\n",
      "   ---------------------------------------- 0.0/101.7 MB ? eta -:--:--\n",
      "   --- ------------------------------------ 9.7/101.7 MB 50.2 MB/s eta 0:00:02\n",
      "   ---------- ----------------------------- 27.5/101.7 MB 69.7 MB/s eta 0:00:02\n",
      "   ---------------- ----------------------- 42.7/101.7 MB 69.6 MB/s eta 0:00:01\n",
      "   ----------------------- ---------------- 59.2/101.7 MB 71.2 MB/s eta 0:00:01\n",
      "   ------------------------------ --------- 76.8/101.7 MB 74.2 MB/s eta 0:00:01\n",
      "   ----------------------------------- ---- 90.4/101.7 MB 72.1 MB/s eta 0:00:01\n",
      "   --------------------------------------  101.7/101.7 MB 71.3 MB/s eta 0:00:01\n",
      "   --------------------------------------- 101.7/101.7 MB 64.9 MB/s eta 0:00:00\n",
      "Downloading graphviz-0.20.3-py3-none-any.whl (47 kB)\n",
      "Installing collected packages: graphviz, catboost\n",
      "Successfully installed catboost-1.2.7 graphviz-0.20.3\n"
     ]
    }
   ],
   "source": [
    "!pip install xgboost\n",
    "!pip install rdkit\n",
    "!pip install catboost"
   ]
  },
  {
   "cell_type": "code",
   "execution_count": 180,
   "id": "0a7ee192-f117-4942-baf4-bffebb05be2b",
   "metadata": {},
   "outputs": [],
   "source": [
    "import pandas as pd"
   ]
  },
  {
   "cell_type": "code",
   "execution_count": 181,
   "id": "4c03889c-d3b2-4f74-ab5d-24ead98847d9",
   "metadata": {},
   "outputs": [],
   "source": [
    "df = pd.read_csv('compounds.csv')"
   ]
  },
  {
   "cell_type": "code",
   "execution_count": 182,
   "id": "f9596d1e-4bb5-45d7-8425-7325046af09f",
   "metadata": {},
   "outputs": [
    {
     "data": {
      "text/html": [
       "<div>\n",
       "<style scoped>\n",
       "    .dataframe tbody tr th:only-of-type {\n",
       "        vertical-align: middle;\n",
       "    }\n",
       "\n",
       "    .dataframe tbody tr th {\n",
       "        vertical-align: top;\n",
       "    }\n",
       "\n",
       "    .dataframe thead th {\n",
       "        text-align: right;\n",
       "    }\n",
       "</style>\n",
       "<table border=\"1\" class=\"dataframe\">\n",
       "  <thead>\n",
       "    <tr style=\"text-align: right;\">\n",
       "      <th></th>\n",
       "      <th>_sa_instance_state</th>\n",
       "      <th>name</th>\n",
       "      <th>formula</th>\n",
       "      <th>revision</th>\n",
       "      <th>locked_by</th>\n",
       "      <th>synonyms</th>\n",
       "      <th>mass</th>\n",
       "      <th>notes</th>\n",
       "      <th>lock_date</th>\n",
       "      <th>code</th>\n",
       "      <th>...</th>\n",
       "      <th>id</th>\n",
       "      <th>create_date</th>\n",
       "      <th>drug_monograph_id</th>\n",
       "      <th>db_status</th>\n",
       "      <th>created_by</th>\n",
       "      <th>iupac</th>\n",
       "      <th>locked</th>\n",
       "      <th>modify_date</th>\n",
       "      <th>cas_no</th>\n",
       "      <th>modified_by</th>\n",
       "    </tr>\n",
       "  </thead>\n",
       "  <tbody>\n",
       "    <tr>\n",
       "      <th>0</th>\n",
       "      <td>&lt;sqlalchemy.orm.state.InstanceState object at ...</td>\n",
       "      <td>Amitriptyline</td>\n",
       "      <td>NaN</td>\n",
       "      <td>NaN</td>\n",
       "      <td>NaN</td>\n",
       "      <td>NIH 10794; Ro 4-1575</td>\n",
       "      <td>NaN</td>\n",
       "      <td>NaN</td>\n",
       "      <td>NaN</td>\n",
       "      <td>A01</td>\n",
       "      <td>...</td>\n",
       "      <td>1</td>\n",
       "      <td>2024-12-31 17:02:54.437</td>\n",
       "      <td>47.0</td>\n",
       "      <td>Active</td>\n",
       "      <td>ZZZ</td>\n",
       "      <td>NaN</td>\n",
       "      <td>NaN</td>\n",
       "      <td>NaN</td>\n",
       "      <td>50-48-6</td>\n",
       "      <td>NaN</td>\n",
       "    </tr>\n",
       "    <tr>\n",
       "      <th>1</th>\n",
       "      <td>&lt;sqlalchemy.orm.state.InstanceState object at ...</td>\n",
       "      <td>Amphetamine</td>\n",
       "      <td>C9H13N</td>\n",
       "      <td>NaN</td>\n",
       "      <td>NaN</td>\n",
       "      <td>Amph; Benzedrine sulphate</td>\n",
       "      <td>135.1048</td>\n",
       "      <td>NaN</td>\n",
       "      <td>NaN</td>\n",
       "      <td>A02</td>\n",
       "      <td>...</td>\n",
       "      <td>2</td>\n",
       "      <td>2024-12-31 17:02:54.437</td>\n",
       "      <td>10.0</td>\n",
       "      <td>Active</td>\n",
       "      <td>ZZZ</td>\n",
       "      <td>1-phenylpropan-2-amine</td>\n",
       "      <td>NaN</td>\n",
       "      <td>NaN</td>\n",
       "      <td>300-62-9</td>\n",
       "      <td>NaN</td>\n",
       "    </tr>\n",
       "    <tr>\n",
       "      <th>2</th>\n",
       "      <td>&lt;sqlalchemy.orm.state.InstanceState object at ...</td>\n",
       "      <td>7-Amino Clonazepam</td>\n",
       "      <td>C15H12ClN3O</td>\n",
       "      <td>NaN</td>\n",
       "      <td>NaN</td>\n",
       "      <td>NaN</td>\n",
       "      <td>285.0669</td>\n",
       "      <td>NaN</td>\n",
       "      <td>NaN</td>\n",
       "      <td>A03</td>\n",
       "      <td>...</td>\n",
       "      <td>3</td>\n",
       "      <td>2024-12-31 17:02:54.437</td>\n",
       "      <td>NaN</td>\n",
       "      <td>Active</td>\n",
       "      <td>ZZZ</td>\n",
       "      <td>7-amino-5-(2-chlorophenyl)-1,3-dihydro-1,4-ben...</td>\n",
       "      <td>NaN</td>\n",
       "      <td>NaN</td>\n",
       "      <td>4959-17-5</td>\n",
       "      <td>NaN</td>\n",
       "    </tr>\n",
       "    <tr>\n",
       "      <th>3</th>\n",
       "      <td>&lt;sqlalchemy.orm.state.InstanceState object at ...</td>\n",
       "      <td>7-Amino Flunitrazepam</td>\n",
       "      <td>C16H14FN3O</td>\n",
       "      <td>NaN</td>\n",
       "      <td>NaN</td>\n",
       "      <td>NaN</td>\n",
       "      <td>283.1121</td>\n",
       "      <td>NaN</td>\n",
       "      <td>NaN</td>\n",
       "      <td>A04</td>\n",
       "      <td>...</td>\n",
       "      <td>4</td>\n",
       "      <td>2024-12-31 17:02:54.437</td>\n",
       "      <td>NaN</td>\n",
       "      <td>Active</td>\n",
       "      <td>ZZZ</td>\n",
       "      <td>7-amino-5-(2-fluorophenyl)-1-methyl-2,3-dihydr...</td>\n",
       "      <td>NaN</td>\n",
       "      <td>NaN</td>\n",
       "      <td>34084-50-9</td>\n",
       "      <td>NaN</td>\n",
       "    </tr>\n",
       "    <tr>\n",
       "      <th>4</th>\n",
       "      <td>&lt;sqlalchemy.orm.state.InstanceState object at ...</td>\n",
       "      <td>7-Amino Nitrazepam</td>\n",
       "      <td>C15H13N3O</td>\n",
       "      <td>NaN</td>\n",
       "      <td>NaN</td>\n",
       "      <td>NaN</td>\n",
       "      <td>251.1059</td>\n",
       "      <td>NaN</td>\n",
       "      <td>NaN</td>\n",
       "      <td>A05</td>\n",
       "      <td>...</td>\n",
       "      <td>5</td>\n",
       "      <td>2024-12-31 17:02:54.437</td>\n",
       "      <td>NaN</td>\n",
       "      <td>Active</td>\n",
       "      <td>ZZZ</td>\n",
       "      <td>7-amino-5-phenyl-1,3-dihydro-1,4-benzodiazepin...</td>\n",
       "      <td>NaN</td>\n",
       "      <td>NaN</td>\n",
       "      <td>4928-02-3</td>\n",
       "      <td>NaN</td>\n",
       "    </tr>\n",
       "  </tbody>\n",
       "</table>\n",
       "<p>5 rows × 27 columns</p>\n",
       "</div>"
      ],
      "text/plain": [
       "                                  _sa_instance_state                   name  \\\n",
       "0  <sqlalchemy.orm.state.InstanceState object at ...          Amitriptyline   \n",
       "1  <sqlalchemy.orm.state.InstanceState object at ...            Amphetamine   \n",
       "2  <sqlalchemy.orm.state.InstanceState object at ...     7-Amino Clonazepam   \n",
       "3  <sqlalchemy.orm.state.InstanceState object at ...  7-Amino Flunitrazepam   \n",
       "4  <sqlalchemy.orm.state.InstanceState object at ...     7-Amino Nitrazepam   \n",
       "\n",
       "       formula  revision  locked_by                   synonyms      mass  \\\n",
       "0          NaN       NaN        NaN       NIH 10794; Ro 4-1575       NaN   \n",
       "1       C9H13N       NaN        NaN  Amph; Benzedrine sulphate  135.1048   \n",
       "2  C15H12ClN3O       NaN        NaN                        NaN  285.0669   \n",
       "3   C16H14FN3O       NaN        NaN                        NaN  283.1121   \n",
       "4    C15H13N3O       NaN        NaN                        NaN  251.1059   \n",
       "\n",
       "  notes  lock_date code  ... id              create_date  drug_monograph_id  \\\n",
       "0   NaN        NaN  A01  ...  1  2024-12-31 17:02:54.437               47.0   \n",
       "1   NaN        NaN  A02  ...  2  2024-12-31 17:02:54.437               10.0   \n",
       "2   NaN        NaN  A03  ...  3  2024-12-31 17:02:54.437                NaN   \n",
       "3   NaN        NaN  A04  ...  4  2024-12-31 17:02:54.437                NaN   \n",
       "4   NaN        NaN  A05  ...  5  2024-12-31 17:02:54.437                NaN   \n",
       "\n",
       "  db_status created_by                                              iupac  \\\n",
       "0    Active        ZZZ                                                NaN   \n",
       "1    Active        ZZZ                             1-phenylpropan-2-amine   \n",
       "2    Active        ZZZ  7-amino-5-(2-chlorophenyl)-1,3-dihydro-1,4-ben...   \n",
       "3    Active        ZZZ  7-amino-5-(2-fluorophenyl)-1-methyl-2,3-dihydr...   \n",
       "4    Active        ZZZ  7-amino-5-phenyl-1,3-dihydro-1,4-benzodiazepin...   \n",
       "\n",
       "   locked  modify_date      cas_no  modified_by  \n",
       "0     NaN          NaN     50-48-6          NaN  \n",
       "1     NaN          NaN    300-62-9          NaN  \n",
       "2     NaN          NaN   4959-17-5          NaN  \n",
       "3     NaN          NaN  34084-50-9          NaN  \n",
       "4     NaN          NaN   4928-02-3          NaN  \n",
       "\n",
       "[5 rows x 27 columns]"
      ]
     },
     "execution_count": 182,
     "metadata": {},
     "output_type": "execute_result"
    }
   ],
   "source": [
    "df.head()"
   ]
  },
  {
   "cell_type": "code",
   "execution_count": 183,
   "id": "ab76cf21-65b9-409e-ac9a-5fd1a44d3e9a",
   "metadata": {},
   "outputs": [],
   "source": [
    "df = df.drop(df.columns[df.isnull().sum()>700],axis=1)"
   ]
  },
  {
   "cell_type": "code",
   "execution_count": 184,
   "id": "af313ed5-a017-4ab9-a9a3-96951f04ad28",
   "metadata": {},
   "outputs": [],
   "source": [
    "df = df.drop(['_sa_instance_state','code','inventory_add_date','id','cas_no','created_by','create_date','db_status'],axis=1)"
   ]
  },
  {
   "cell_type": "code",
   "execution_count": 185,
   "id": "c5b34c83-5e03-4b36-be45-30036822adb7",
   "metadata": {},
   "outputs": [
    {
     "name": "stdout",
     "output_type": "stream",
     "text": [
      "name               0\n",
      "formula          459\n",
      "mass             459\n",
      "inchikey         457\n",
      "smiles           459\n",
      "drug_class_id    285\n",
      "iupac            459\n",
      "dtype: int64\n"
     ]
    }
   ],
   "source": [
    "df.head()\n",
    "print(df.isnull().sum())"
   ]
  },
  {
   "cell_type": "code",
   "execution_count": 186,
   "id": "458ad1ca-1a23-4b14-940f-54a0e699046b",
   "metadata": {},
   "outputs": [],
   "source": [
    "df = df.dropna(how='any', axis=0).reset_index(drop=True)"
   ]
  },
  {
   "cell_type": "code",
   "execution_count": 187,
   "id": "8523961c-c727-4c50-9290-f14c7523ae88",
   "metadata": {},
   "outputs": [],
   "source": [
    "import pandas as pd\n",
    "import numpy as np\n",
    "from sklearn.model_selection import train_test_split\n",
    "from sklearn.preprocessing import LabelEncoder\n",
    "from sklearn.metrics import mean_squared_error\n",
    "import xgboost as xgb\n",
    "from rdkit import Chem\n",
    "from rdkit.Chem import Descriptors\n",
    "from sklearn.ensemble import GradientBoostingRegressor\n",
    "\n",
    "from catboost import CatBoostRegressor,Pool"
   ]
  },
  {
   "cell_type": "code",
   "execution_count": 188,
   "id": "9937a910-acad-4b89-bcf9-67d83b5ef49c",
   "metadata": {},
   "outputs": [],
   "source": [
    "def smiles_to_features(smiles):\n",
    "    mol = Chem.MolFromSmiles(smiles)\n",
    "    if mol:\n",
    "        # Extract some molecular descriptors, e.g., molecular weight, number of atoms, etc.\n",
    "        return [ Descriptors.NumRotatableBonds(mol)]\n",
    "    return [ np.nan]\n"
   ]
  },
  {
   "cell_type": "code",
   "execution_count": 189,
   "id": "a4133a5e-2941-476f-a50c-9d894190a6d9",
   "metadata": {},
   "outputs": [],
   "source": [
    "smiles_features = df['smiles'].apply(smiles_to_features)\n",
    "cleaned_df = pd.DataFrame(smiles_features.tolist(),columns=['num_bonds'])"
   ]
  },
  {
   "cell_type": "code",
   "execution_count": 190,
   "id": "5566d108-9a67-493a-8649-74874c8ae4a7",
   "metadata": {},
   "outputs": [],
   "source": [
    "df = pd.concat([df,cleaned_df],axis=1)"
   ]
  },
  {
   "cell_type": "code",
   "execution_count": 200,
   "id": "9ac4f352-a8b4-4bc2-93a4-001432a194d0",
   "metadata": {},
   "outputs": [
    {
     "data": {
      "text/html": [
       "<div>\n",
       "<style scoped>\n",
       "    .dataframe tbody tr th:only-of-type {\n",
       "        vertical-align: middle;\n",
       "    }\n",
       "\n",
       "    .dataframe tbody tr th {\n",
       "        vertical-align: top;\n",
       "    }\n",
       "\n",
       "    .dataframe thead th {\n",
       "        text-align: right;\n",
       "    }\n",
       "</style>\n",
       "<table border=\"1\" class=\"dataframe\">\n",
       "  <thead>\n",
       "    <tr style=\"text-align: right;\">\n",
       "      <th></th>\n",
       "      <th>name</th>\n",
       "      <th>formula</th>\n",
       "      <th>mass</th>\n",
       "      <th>inchikey</th>\n",
       "      <th>smiles</th>\n",
       "      <th>drug_class_id</th>\n",
       "      <th>iupac</th>\n",
       "      <th>num_bonds</th>\n",
       "    </tr>\n",
       "  </thead>\n",
       "  <tbody>\n",
       "    <tr>\n",
       "      <th>0</th>\n",
       "      <td>Amphetamine</td>\n",
       "      <td>C9H13N</td>\n",
       "      <td>135.1048</td>\n",
       "      <td>KWTSXDURSIMDCE-UHFFFAOYSA-N</td>\n",
       "      <td>NC(CC1=CC=CC=C1)C</td>\n",
       "      <td>1.0</td>\n",
       "      <td>1-phenylpropan-2-amine</td>\n",
       "      <td>2</td>\n",
       "    </tr>\n",
       "    <tr>\n",
       "      <th>1</th>\n",
       "      <td>7-Amino Clonazepam</td>\n",
       "      <td>C15H12ClN3O</td>\n",
       "      <td>285.0669</td>\n",
       "      <td>HEFRPWRJTGLSSV-UHFFFAOYSA-N</td>\n",
       "      <td>C1C(=O)NC2=C(C=C(C=C2)N)C(=N1)C3=CC=CC=C3Cl</td>\n",
       "      <td>12.0</td>\n",
       "      <td>7-amino-5-(2-chlorophenyl)-1,3-dihydro-1,4-ben...</td>\n",
       "      <td>1</td>\n",
       "    </tr>\n",
       "    <tr>\n",
       "      <th>2</th>\n",
       "      <td>7-Amino Flunitrazepam</td>\n",
       "      <td>C16H14FN3O</td>\n",
       "      <td>283.1121</td>\n",
       "      <td>LTCDLGUFORGHGY-UHFFFAOYSA-N</td>\n",
       "      <td>NC=1C=CC2=C(C(=NCC(N2C)=O)C2=C(C=CC=C2)F)C1</td>\n",
       "      <td>12.0</td>\n",
       "      <td>7-amino-5-(2-fluorophenyl)-1-methyl-2,3-dihydr...</td>\n",
       "      <td>1</td>\n",
       "    </tr>\n",
       "    <tr>\n",
       "      <th>3</th>\n",
       "      <td>7-Amino Nitrazepam</td>\n",
       "      <td>C15H13N3O</td>\n",
       "      <td>251.1059</td>\n",
       "      <td>OYOUQHVDCKOOAL-UHFFFAOYSA-N</td>\n",
       "      <td>C1C(=O)NC2=C(C=C(C=C2)N)C(=N1)C3=CC=CC=C3</td>\n",
       "      <td>12.0</td>\n",
       "      <td>7-amino-5-phenyl-1,3-dihydro-1,4-benzodiazepin...</td>\n",
       "      <td>1</td>\n",
       "    </tr>\n",
       "    <tr>\n",
       "      <th>4</th>\n",
       "      <td>alpha-Hydroxy Alprazolam</td>\n",
       "      <td>C17H13ClN4O</td>\n",
       "      <td>324.0778</td>\n",
       "      <td>ZURUZYHEEMDQBU-UHFFFAOYSA-N</td>\n",
       "      <td>OCC1=NN=C2CN=C(C3=CC=CC=C3)C3=C(C=CC(Cl)=C3)N12</td>\n",
       "      <td>12.0</td>\n",
       "      <td>{12-chloro-9-phenyl-2,4,5,8-tetraazatricyclo[8...</td>\n",
       "      <td>2</td>\n",
       "    </tr>\n",
       "    <tr>\n",
       "      <th>...</th>\n",
       "      <td>...</td>\n",
       "      <td>...</td>\n",
       "      <td>...</td>\n",
       "      <td>...</td>\n",
       "      <td>...</td>\n",
       "      <td>...</td>\n",
       "      <td>...</td>\n",
       "      <td>...</td>\n",
       "    </tr>\n",
       "    <tr>\n",
       "      <th>733</th>\n",
       "      <td>Creatinine</td>\n",
       "      <td>C4H7N3O</td>\n",
       "      <td>113.0589</td>\n",
       "      <td>DDRJAANPRJIHGJ-UHFFFAOYSA-N</td>\n",
       "      <td>CN1CC(=O)N=C1N</td>\n",
       "      <td>13.0</td>\n",
       "      <td>2-amino-3-methyl-4H-imidazol-5-one</td>\n",
       "      <td>0</td>\n",
       "    </tr>\n",
       "    <tr>\n",
       "      <th>734</th>\n",
       "      <td>Glucose</td>\n",
       "      <td>C6H12O6</td>\n",
       "      <td>180.0634</td>\n",
       "      <td>WQZGKKKJIJFFOK-GASJEMHNSA-N</td>\n",
       "      <td>C([C@@H]1[C@H]([C@@H]([C@H](C(O1)O)O)O)O)O</td>\n",
       "      <td>13.0</td>\n",
       "      <td>(3R,4S,5S,6R)-6-(hydroxymethyl)oxane-2,3,4,5-t...</td>\n",
       "      <td>1</td>\n",
       "    </tr>\n",
       "    <tr>\n",
       "      <th>735</th>\n",
       "      <td>Potassium Cation</td>\n",
       "      <td>K+</td>\n",
       "      <td>38.9632</td>\n",
       "      <td>NPYPAHLBTDXSSS-UHFFFAOYSA-N</td>\n",
       "      <td>[K+]</td>\n",
       "      <td>13.0</td>\n",
       "      <td>potassium(1+)</td>\n",
       "      <td>0</td>\n",
       "    </tr>\n",
       "    <tr>\n",
       "      <th>736</th>\n",
       "      <td>Sodium Cation</td>\n",
       "      <td>Na+</td>\n",
       "      <td>22.9892</td>\n",
       "      <td>FKNQFGJONOIPTF-UHFFFAOYSA-N</td>\n",
       "      <td>[Na+]</td>\n",
       "      <td>13.0</td>\n",
       "      <td>sodium(1+)</td>\n",
       "      <td>0</td>\n",
       "    </tr>\n",
       "    <tr>\n",
       "      <th>737</th>\n",
       "      <td>Urea</td>\n",
       "      <td>CH4N2O</td>\n",
       "      <td>60.0324</td>\n",
       "      <td>XSQUKJJJFZCRTK-UHFFFAOYSA-N</td>\n",
       "      <td>NC(=O)N</td>\n",
       "      <td>13.0</td>\n",
       "      <td>urea</td>\n",
       "      <td>0</td>\n",
       "    </tr>\n",
       "  </tbody>\n",
       "</table>\n",
       "<p>738 rows × 8 columns</p>\n",
       "</div>"
      ],
      "text/plain": [
       "                         name      formula      mass  \\\n",
       "0                 Amphetamine       C9H13N  135.1048   \n",
       "1          7-Amino Clonazepam  C15H12ClN3O  285.0669   \n",
       "2       7-Amino Flunitrazepam   C16H14FN3O  283.1121   \n",
       "3          7-Amino Nitrazepam    C15H13N3O  251.1059   \n",
       "4    alpha-Hydroxy Alprazolam  C17H13ClN4O  324.0778   \n",
       "..                        ...          ...       ...   \n",
       "733                Creatinine      C4H7N3O  113.0589   \n",
       "734                   Glucose      C6H12O6  180.0634   \n",
       "735          Potassium Cation           K+   38.9632   \n",
       "736             Sodium Cation          Na+   22.9892   \n",
       "737                      Urea       CH4N2O   60.0324   \n",
       "\n",
       "                        inchikey  \\\n",
       "0    KWTSXDURSIMDCE-UHFFFAOYSA-N   \n",
       "1    HEFRPWRJTGLSSV-UHFFFAOYSA-N   \n",
       "2    LTCDLGUFORGHGY-UHFFFAOYSA-N   \n",
       "3    OYOUQHVDCKOOAL-UHFFFAOYSA-N   \n",
       "4    ZURUZYHEEMDQBU-UHFFFAOYSA-N   \n",
       "..                           ...   \n",
       "733  DDRJAANPRJIHGJ-UHFFFAOYSA-N   \n",
       "734  WQZGKKKJIJFFOK-GASJEMHNSA-N   \n",
       "735  NPYPAHLBTDXSSS-UHFFFAOYSA-N   \n",
       "736  FKNQFGJONOIPTF-UHFFFAOYSA-N   \n",
       "737  XSQUKJJJFZCRTK-UHFFFAOYSA-N   \n",
       "\n",
       "                                              smiles  drug_class_id  \\\n",
       "0                                  NC(CC1=CC=CC=C1)C            1.0   \n",
       "1        C1C(=O)NC2=C(C=C(C=C2)N)C(=N1)C3=CC=CC=C3Cl           12.0   \n",
       "2        NC=1C=CC2=C(C(=NCC(N2C)=O)C2=C(C=CC=C2)F)C1           12.0   \n",
       "3          C1C(=O)NC2=C(C=C(C=C2)N)C(=N1)C3=CC=CC=C3           12.0   \n",
       "4    OCC1=NN=C2CN=C(C3=CC=CC=C3)C3=C(C=CC(Cl)=C3)N12           12.0   \n",
       "..                                               ...            ...   \n",
       "733                                   CN1CC(=O)N=C1N           13.0   \n",
       "734       C([C@@H]1[C@H]([C@@H]([C@H](C(O1)O)O)O)O)O           13.0   \n",
       "735                                             [K+]           13.0   \n",
       "736                                            [Na+]           13.0   \n",
       "737                                          NC(=O)N           13.0   \n",
       "\n",
       "                                                 iupac  num_bonds  \n",
       "0                               1-phenylpropan-2-amine          2  \n",
       "1    7-amino-5-(2-chlorophenyl)-1,3-dihydro-1,4-ben...          1  \n",
       "2    7-amino-5-(2-fluorophenyl)-1-methyl-2,3-dihydr...          1  \n",
       "3    7-amino-5-phenyl-1,3-dihydro-1,4-benzodiazepin...          1  \n",
       "4    {12-chloro-9-phenyl-2,4,5,8-tetraazatricyclo[8...          2  \n",
       "..                                                 ...        ...  \n",
       "733                 2-amino-3-methyl-4H-imidazol-5-one          0  \n",
       "734  (3R,4S,5S,6R)-6-(hydroxymethyl)oxane-2,3,4,5-t...          1  \n",
       "735                                      potassium(1+)          0  \n",
       "736                                         sodium(1+)          0  \n",
       "737                                               urea          0  \n",
       "\n",
       "[738 rows x 8 columns]"
      ]
     },
     "execution_count": 200,
     "metadata": {},
     "output_type": "execute_result"
    }
   ],
   "source": [
    "df"
   ]
  },
  {
   "cell_type": "code",
   "execution_count": 201,
   "id": "3e5b464d-0229-4657-85b5-05bd20d74e7f",
   "metadata": {},
   "outputs": [],
   "source": [
    "X = df.drop('mass',axis=1)\n",
    "y = df['mass']"
   ]
  },
  {
   "cell_type": "code",
   "execution_count": 202,
   "id": "84476e44-15fa-475c-abf0-9cc40dd649f3",
   "metadata": {},
   "outputs": [],
   "source": [
    "X_train,X_test,y_train,y_test = train_test_split(X,y,test_size=0.2,random_state=217)"
   ]
  },
  {
   "cell_type": "code",
   "execution_count": 203,
   "id": "ad0eb757-8888-4181-a1c9-20e46e96feaa",
   "metadata": {},
   "outputs": [],
   "source": [
    "cat_features = [0,1,2,3,5]"
   ]
  },
  {
   "cell_type": "code",
   "execution_count": 204,
   "id": "79cd5624-169a-4cf1-a238-992c922f7d51",
   "metadata": {},
   "outputs": [
    {
     "name": "stdout",
     "output_type": "stream",
     "text": [
      "0:\tlearn: 80.8205483\ttest: 77.5267240\tbest: 77.5267240 (0)\ttotal: 32.3ms\tremaining: 2m 41s\n",
      "100:\tlearn: 54.9000116\ttest: 55.5478931\tbest: 55.5478931 (100)\ttotal: 2.03s\tremaining: 1m 38s\n",
      "200:\tlearn: 47.6923185\ttest: 48.8076028\tbest: 48.8076028 (200)\ttotal: 3.61s\tremaining: 1m 26s\n",
      "300:\tlearn: 44.4367330\ttest: 46.0097797\tbest: 46.0097797 (300)\ttotal: 5.27s\tremaining: 1m 22s\n",
      "400:\tlearn: 43.1712484\ttest: 44.9204663\tbest: 44.9204663 (400)\ttotal: 6.58s\tremaining: 1m 15s\n",
      "500:\tlearn: 42.1902241\ttest: 44.0712536\tbest: 44.0712536 (500)\ttotal: 7.79s\tremaining: 1m 9s\n",
      "600:\tlearn: 41.2073263\ttest: 43.2749228\tbest: 43.2749228 (600)\ttotal: 9.08s\tremaining: 1m 6s\n",
      "700:\tlearn: 40.0052225\ttest: 42.3167952\tbest: 42.3167952 (700)\ttotal: 10.6s\tremaining: 1m 4s\n",
      "800:\tlearn: 38.6076701\ttest: 41.3622823\tbest: 41.3622823 (800)\ttotal: 12.3s\tremaining: 1m 4s\n",
      "900:\tlearn: 37.5374101\ttest: 40.6275574\tbest: 40.6275574 (900)\ttotal: 14.2s\tremaining: 1m 4s\n",
      "1000:\tlearn: 36.6201485\ttest: 40.1287348\tbest: 40.1284587 (999)\ttotal: 16s\tremaining: 1m 4s\n",
      "1100:\tlearn: 35.7997040\ttest: 39.7743452\tbest: 39.7724377 (1098)\ttotal: 17.9s\tremaining: 1m 3s\n",
      "1200:\tlearn: 35.0718829\ttest: 39.4915009\tbest: 39.4905742 (1198)\ttotal: 19.8s\tremaining: 1m 2s\n",
      "1300:\tlearn: 34.5008683\ttest: 39.3866469\tbest: 39.3866469 (1300)\ttotal: 21.7s\tremaining: 1m 1s\n",
      "1400:\tlearn: 33.9265704\ttest: 39.2710245\tbest: 39.2621224 (1396)\ttotal: 23.5s\tremaining: 1m\n",
      "1500:\tlearn: 33.4762125\ttest: 39.2068046\tbest: 39.2068046 (1500)\ttotal: 25.4s\tremaining: 59.2s\n",
      "1600:\tlearn: 33.0249600\ttest: 39.1806779\tbest: 39.1738790 (1592)\ttotal: 27.3s\tremaining: 57.9s\n",
      "Stopped by overfitting detector  (50 iterations wait)\n",
      "\n",
      "bestTest = 39.17387897\n",
      "bestIteration = 1592\n",
      "\n",
      "Shrink model to first 1593 iterations.\n"
     ]
    },
    {
     "data": {
      "text/plain": [
       "<catboost.core.CatBoostRegressor at 0x1ec674f5c40>"
      ]
     },
     "execution_count": 204,
     "metadata": {},
     "output_type": "execute_result"
    }
   ],
   "source": [
    "train_pool = Pool(X_train, label=y_train, cat_features=cat_features)\n",
    "test_pool = Pool(X_test, label=y_test, cat_features=cat_features)\n",
    "\n",
    "# Initialize CatBoostRegressor\n",
    "model = CatBoostRegressor(iterations=5000, learning_rate=0.01, depth=6, loss_function='RMSE', verbose=100)\n",
    "\n",
    "# Train model\n",
    "model.fit(train_pool, eval_set=test_pool, early_stopping_rounds=50, use_best_model=True)"
   ]
  },
  {
   "cell_type": "code",
   "execution_count": 205,
   "id": "b105a194-6ac2-420a-b8b9-04da7f112933",
   "metadata": {},
   "outputs": [],
   "source": [
    "y_pred = model.predict(X_test)"
   ]
  },
  {
   "cell_type": "code",
   "execution_count": 206,
   "id": "0726bc20-3836-47d2-ba40-0f6c3df6f40f",
   "metadata": {},
   "outputs": [],
   "source": [
    "import matplotlib.pyplot as plt"
   ]
  },
  {
   "cell_type": "code",
   "execution_count": 207,
   "id": "4ddc778b-0043-4cfa-a5b8-feafa72362c9",
   "metadata": {},
   "outputs": [
    {
     "data": {
      "text/plain": [
       "[<matplotlib.lines.Line2D at 0x1ec6ac03800>]"
      ]
     },
     "execution_count": 207,
     "metadata": {},
     "output_type": "execute_result"
    },
    {
     "data": {
      "image/png": "[encoded data removed]",
      "text/plain": [
       "<Figure size 640x480 with 1 Axes>"
      ]
     },
     "metadata": {},
     "output_type": "display_data"
    }
   ],
   "source": [
    "plt.plot(y_pred[:50])\n",
    "plt.plot(list(y_test[:50]),c='r')"
   ]
  },
  {
   "cell_type": "code",
   "execution_count": 208,
   "id": "6acb2fe6-7e9d-4086-a624-307dcdfe715e",
   "metadata": {},
   "outputs": [
    {
     "data": {
      "text/plain": [
       "pandas.core.series.Series"
      ]
     },
     "execution_count": 208,
     "metadata": {},
     "output_type": "execute_result"
    }
   ],
   "source": [
    "type(y_test)"
   ]
  },
  {
   "cell_type": "code",
   "execution_count": 209,
   "id": "f9629524-7d53-4e41-8186-7f3dbb85bdd4",
   "metadata": {},
   "outputs": [
    {
     "name": "stdout",
     "output_type": "stream",
     "text": [
      "1534.5927724885723\n"
     ]
    }
   ],
   "source": [
    "print(mean_squared_error(y_pred,y_test))"
   ]
  },
  {
   "cell_type": "code",
   "execution_count": 210,
   "id": "9e76af98-e1cd-482c-9ec3-1cff6f6af855",
   "metadata": {},
   "outputs": [
    {
     "name": "stdout",
     "output_type": "stream",
     "text": [
      "Mean of y_test: 323.80524324323903\n",
      "Std deviation of y_test: 76.5872087455489\n"
     ]
    }
   ],
   "source": [
    "import numpy as np\n",
    "\n",
    "print(\"Mean of y_test:\", np.mean(y_test))\n",
    "print(\"Std deviation of y_test:\", np.std(y_test))\n"
   ]
  },
  {
   "cell_type": "code",
   "execution_count": 211,
   "id": "a18082c0-268f-4a06-a8f7-3905532df039",
   "metadata": {},
   "outputs": [
    {
     "name": "stdout",
     "output_type": "stream",
     "text": [
      "Normalized RMSE: 0.09442662579042956\n"
     ]
    }
   ],
   "source": [
    "nrmse = 39 / (max(y_test) - min(y_test))\n",
    "print(\"Normalized RMSE:\", nrmse)\n",
    "\n",
    "# very good"
   ]
  },
  {
   "cell_type": "code",
   "execution_count": null,
   "id": "6da9b757-2c36-43e7-b550-22ea0524d45d",
   "metadata": {},
   "outputs": [],
   "source": []
  }
 ],
 "metadata": {
  "kernelspec": {
   "display_name": "Python 3 (ipykernel)",
   "language": "python",
   "name": "python3"
  },
  "language_info": {
   "codemirror_mode": {
    "name": "ipython",
    "version": 3
   },
   "file_extension": ".py",
   "mimetype": "text/x-python",
   "name": "python",
   "nbconvert_exporter": "python",
   "pygments_lexer": "ipython3",
   "version": "3.12.7"
  }
 },
 "nbformat": 4,
 "nbformat_minor": 5
}
